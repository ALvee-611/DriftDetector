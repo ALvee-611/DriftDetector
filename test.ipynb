{
 "cells": [
  {
   "cell_type": "code",
   "execution_count": 9,
   "metadata": {},
   "outputs": [],
   "source": [
    "import numpy as np\n",
    "import pandas as pd\n",
    "import sqlite3\n",
    "from scipy.stats import truncnorm\n",
    "from collections import defaultdict\n",
    "from scipy.stats import ks_2samp, chi2_contingency\n",
    "import scipy.stats as stats\n",
    "\n",
    "import matplotlib.pyplot as plt"
   ]
  },
  {
   "cell_type": "code",
   "execution_count": 140,
   "metadata": {},
   "outputs": [],
   "source": [
    "# Loading the data\n",
    "dataset_1 = \"Batch_1.csv\"\n",
    "dataset_2 = \"Batch_2.csv\"\n",
    "\n",
    "df_1 = pd.read_csv(dataset_1)\n",
    "df_2 = pd.read_csv(dataset_2)"
   ]
  },
  {
   "cell_type": "code",
   "execution_count": 131,
   "metadata": {},
   "outputs": [
    {
     "data": {
      "text/html": [
       "<div>\n",
       "<style scoped>\n",
       "    .dataframe tbody tr th:only-of-type {\n",
       "        vertical-align: middle;\n",
       "    }\n",
       "\n",
       "    .dataframe tbody tr th {\n",
       "        vertical-align: top;\n",
       "    }\n",
       "\n",
       "    .dataframe thead th {\n",
       "        text-align: right;\n",
       "    }\n",
       "</style>\n",
       "<table border=\"1\" class=\"dataframe\">\n",
       "  <thead>\n",
       "    <tr style=\"text-align: right;\">\n",
       "      <th></th>\n",
       "      <th>Age</th>\n",
       "      <th>BusinessTravel</th>\n",
       "      <th>Department</th>\n",
       "      <th>DistanceFromHome</th>\n",
       "      <th>Education</th>\n",
       "      <th>Gender</th>\n",
       "      <th>HourlyRate</th>\n",
       "      <th>JobInvolvement</th>\n",
       "      <th>JobLevel</th>\n",
       "      <th>JobSatisfaction</th>\n",
       "      <th>MaritalStatus</th>\n",
       "      <th>MonthlyIncome</th>\n",
       "      <th>OverTime</th>\n",
       "      <th>TotalWorkingYears</th>\n",
       "      <th>WorkLifeBalance</th>\n",
       "      <th>YearsAtCompany</th>\n",
       "      <th>YearsInCurrentRole</th>\n",
       "      <th>YearsSinceLastPromotion</th>\n",
       "      <th>YearsWithCurrManager</th>\n",
       "      <th>Attrition</th>\n",
       "    </tr>\n",
       "  </thead>\n",
       "  <tbody>\n",
       "    <tr>\n",
       "      <th>0</th>\n",
       "      <td>25</td>\n",
       "      <td>Travel_Rarely</td>\n",
       "      <td>Research &amp; Development</td>\n",
       "      <td>0</td>\n",
       "      <td>Undergraduate</td>\n",
       "      <td>Male</td>\n",
       "      <td>69.305530</td>\n",
       "      <td>1</td>\n",
       "      <td>3</td>\n",
       "      <td>5</td>\n",
       "      <td>Single</td>\n",
       "      <td>6283.959320</td>\n",
       "      <td>Yes</td>\n",
       "      <td>38</td>\n",
       "      <td>6</td>\n",
       "      <td>16</td>\n",
       "      <td>10</td>\n",
       "      <td>10</td>\n",
       "      <td>13</td>\n",
       "      <td>0</td>\n",
       "    </tr>\n",
       "    <tr>\n",
       "      <th>1</th>\n",
       "      <td>44</td>\n",
       "      <td>Travel_Rarely</td>\n",
       "      <td>Research &amp; Development</td>\n",
       "      <td>0</td>\n",
       "      <td>Phd</td>\n",
       "      <td>Male</td>\n",
       "      <td>72.410073</td>\n",
       "      <td>2</td>\n",
       "      <td>3</td>\n",
       "      <td>0</td>\n",
       "      <td>Divorced</td>\n",
       "      <td>4282.348662</td>\n",
       "      <td>Yes</td>\n",
       "      <td>3</td>\n",
       "      <td>5</td>\n",
       "      <td>2</td>\n",
       "      <td>10</td>\n",
       "      <td>12</td>\n",
       "      <td>6</td>\n",
       "      <td>1</td>\n",
       "    </tr>\n",
       "    <tr>\n",
       "      <th>2</th>\n",
       "      <td>23</td>\n",
       "      <td>Travel_Rarely</td>\n",
       "      <td>Research &amp; Development</td>\n",
       "      <td>0</td>\n",
       "      <td>High School</td>\n",
       "      <td>Male</td>\n",
       "      <td>65.398778</td>\n",
       "      <td>5</td>\n",
       "      <td>0</td>\n",
       "      <td>4</td>\n",
       "      <td>Divorced</td>\n",
       "      <td>2029.553029</td>\n",
       "      <td>No</td>\n",
       "      <td>35</td>\n",
       "      <td>2</td>\n",
       "      <td>18</td>\n",
       "      <td>3</td>\n",
       "      <td>2</td>\n",
       "      <td>9</td>\n",
       "      <td>0</td>\n",
       "    </tr>\n",
       "    <tr>\n",
       "      <th>3</th>\n",
       "      <td>31</td>\n",
       "      <td>Travel_Frequently</td>\n",
       "      <td>Research &amp; Development</td>\n",
       "      <td>0</td>\n",
       "      <td>Undergraduate</td>\n",
       "      <td>Male</td>\n",
       "      <td>60.067953</td>\n",
       "      <td>2</td>\n",
       "      <td>1</td>\n",
       "      <td>2</td>\n",
       "      <td>Divorced</td>\n",
       "      <td>5198.519177</td>\n",
       "      <td>No</td>\n",
       "      <td>18</td>\n",
       "      <td>4</td>\n",
       "      <td>16</td>\n",
       "      <td>1</td>\n",
       "      <td>1</td>\n",
       "      <td>13</td>\n",
       "      <td>0</td>\n",
       "    </tr>\n",
       "    <tr>\n",
       "      <th>4</th>\n",
       "      <td>51</td>\n",
       "      <td>Travel_Rarely</td>\n",
       "      <td>Sales</td>\n",
       "      <td>2</td>\n",
       "      <td>Undergraduate</td>\n",
       "      <td>Female</td>\n",
       "      <td>58.241180</td>\n",
       "      <td>1</td>\n",
       "      <td>0</td>\n",
       "      <td>5</td>\n",
       "      <td>Single</td>\n",
       "      <td>3719.390542</td>\n",
       "      <td>No</td>\n",
       "      <td>7</td>\n",
       "      <td>3</td>\n",
       "      <td>13</td>\n",
       "      <td>14</td>\n",
       "      <td>13</td>\n",
       "      <td>7</td>\n",
       "      <td>0</td>\n",
       "    </tr>\n",
       "  </tbody>\n",
       "</table>\n",
       "</div>"
      ],
      "text/plain": [
       "   Age     BusinessTravel              Department  DistanceFromHome  \\\n",
       "0   25      Travel_Rarely  Research & Development                 0   \n",
       "1   44      Travel_Rarely  Research & Development                 0   \n",
       "2   23      Travel_Rarely  Research & Development                 0   \n",
       "3   31  Travel_Frequently  Research & Development                 0   \n",
       "4   51      Travel_Rarely                   Sales                 2   \n",
       "\n",
       "       Education  Gender  HourlyRate  JobInvolvement  JobLevel  \\\n",
       "0  Undergraduate    Male   69.305530               1         3   \n",
       "1            Phd    Male   72.410073               2         3   \n",
       "2    High School    Male   65.398778               5         0   \n",
       "3  Undergraduate    Male   60.067953               2         1   \n",
       "4  Undergraduate  Female   58.241180               1         0   \n",
       "\n",
       "   JobSatisfaction MaritalStatus  MonthlyIncome OverTime  TotalWorkingYears  \\\n",
       "0                5        Single    6283.959320      Yes                 38   \n",
       "1                0      Divorced    4282.348662      Yes                  3   \n",
       "2                4      Divorced    2029.553029       No                 35   \n",
       "3                2      Divorced    5198.519177       No                 18   \n",
       "4                5        Single    3719.390542       No                  7   \n",
       "\n",
       "   WorkLifeBalance  YearsAtCompany  YearsInCurrentRole  \\\n",
       "0                6              16                  10   \n",
       "1                5               2                  10   \n",
       "2                2              18                   3   \n",
       "3                4              16                   1   \n",
       "4                3              13                  14   \n",
       "\n",
       "   YearsSinceLastPromotion  YearsWithCurrManager  Attrition  \n",
       "0                       10                    13          0  \n",
       "1                       12                     6          1  \n",
       "2                        2                     9          0  \n",
       "3                        1                    13          0  \n",
       "4                       13                     7          0  "
      ]
     },
     "execution_count": 131,
     "metadata": {},
     "output_type": "execute_result"
    }
   ],
   "source": [
    "df_1.head(5)"
   ]
  },
  {
   "cell_type": "code",
   "execution_count": 132,
   "metadata": {},
   "outputs": [
    {
     "data": {
      "text/html": [
       "<div>\n",
       "<style scoped>\n",
       "    .dataframe tbody tr th:only-of-type {\n",
       "        vertical-align: middle;\n",
       "    }\n",
       "\n",
       "    .dataframe tbody tr th {\n",
       "        vertical-align: top;\n",
       "    }\n",
       "\n",
       "    .dataframe thead th {\n",
       "        text-align: right;\n",
       "    }\n",
       "</style>\n",
       "<table border=\"1\" class=\"dataframe\">\n",
       "  <thead>\n",
       "    <tr style=\"text-align: right;\">\n",
       "      <th></th>\n",
       "      <th>Age</th>\n",
       "      <th>BusinessTravel</th>\n",
       "      <th>Department</th>\n",
       "      <th>DistanceFromHome</th>\n",
       "      <th>Education</th>\n",
       "      <th>Gender</th>\n",
       "      <th>HourlyRate</th>\n",
       "      <th>JobInvolvement</th>\n",
       "      <th>JobLevel</th>\n",
       "      <th>JobSatisfaction</th>\n",
       "      <th>MaritalStatus</th>\n",
       "      <th>MonthlyIncome</th>\n",
       "      <th>OverTime</th>\n",
       "      <th>TotalWorkingYears</th>\n",
       "      <th>WorkLifeBalance</th>\n",
       "      <th>YearsAtCompany</th>\n",
       "      <th>YearsInCurrentRole</th>\n",
       "      <th>YearsSinceLastPromotion</th>\n",
       "      <th>YearsWithCurrManager</th>\n",
       "      <th>Attrition</th>\n",
       "    </tr>\n",
       "  </thead>\n",
       "  <tbody>\n",
       "    <tr>\n",
       "      <th>0</th>\n",
       "      <td>22</td>\n",
       "      <td>Travel_Rarely</td>\n",
       "      <td>Sales</td>\n",
       "      <td>0</td>\n",
       "      <td>Phd</td>\n",
       "      <td>Male</td>\n",
       "      <td>74.888210</td>\n",
       "      <td>6</td>\n",
       "      <td>2</td>\n",
       "      <td>2</td>\n",
       "      <td>Single</td>\n",
       "      <td>6816.572549</td>\n",
       "      <td>No</td>\n",
       "      <td>8</td>\n",
       "      <td>3</td>\n",
       "      <td>7</td>\n",
       "      <td>13</td>\n",
       "      <td>2</td>\n",
       "      <td>3</td>\n",
       "      <td>0</td>\n",
       "    </tr>\n",
       "    <tr>\n",
       "      <th>1</th>\n",
       "      <td>46</td>\n",
       "      <td>Travel_Rarely</td>\n",
       "      <td>Sales</td>\n",
       "      <td>0</td>\n",
       "      <td>Masters</td>\n",
       "      <td>Male</td>\n",
       "      <td>64.959355</td>\n",
       "      <td>1</td>\n",
       "      <td>1</td>\n",
       "      <td>6</td>\n",
       "      <td>Married</td>\n",
       "      <td>5818.402001</td>\n",
       "      <td>No</td>\n",
       "      <td>38</td>\n",
       "      <td>5</td>\n",
       "      <td>1</td>\n",
       "      <td>3</td>\n",
       "      <td>3</td>\n",
       "      <td>13</td>\n",
       "      <td>0</td>\n",
       "    </tr>\n",
       "    <tr>\n",
       "      <th>2</th>\n",
       "      <td>47</td>\n",
       "      <td>Travel_Frequently</td>\n",
       "      <td>Sales</td>\n",
       "      <td>0</td>\n",
       "      <td>Undergraduate</td>\n",
       "      <td>Female</td>\n",
       "      <td>106.073465</td>\n",
       "      <td>2</td>\n",
       "      <td>4</td>\n",
       "      <td>3</td>\n",
       "      <td>Married</td>\n",
       "      <td>4740.545573</td>\n",
       "      <td>No</td>\n",
       "      <td>36</td>\n",
       "      <td>1</td>\n",
       "      <td>10</td>\n",
       "      <td>6</td>\n",
       "      <td>6</td>\n",
       "      <td>11</td>\n",
       "      <td>1</td>\n",
       "    </tr>\n",
       "    <tr>\n",
       "      <th>3</th>\n",
       "      <td>30</td>\n",
       "      <td>Travel_Rarely</td>\n",
       "      <td>Sales</td>\n",
       "      <td>0</td>\n",
       "      <td>Undergraduate</td>\n",
       "      <td>Male</td>\n",
       "      <td>66.315953</td>\n",
       "      <td>1</td>\n",
       "      <td>1</td>\n",
       "      <td>2</td>\n",
       "      <td>Single</td>\n",
       "      <td>908.509393</td>\n",
       "      <td>No</td>\n",
       "      <td>5</td>\n",
       "      <td>3</td>\n",
       "      <td>13</td>\n",
       "      <td>0</td>\n",
       "      <td>12</td>\n",
       "      <td>8</td>\n",
       "      <td>1</td>\n",
       "    </tr>\n",
       "    <tr>\n",
       "      <th>4</th>\n",
       "      <td>36</td>\n",
       "      <td>Travel_Rarely</td>\n",
       "      <td>Research &amp; Development</td>\n",
       "      <td>0</td>\n",
       "      <td>High School</td>\n",
       "      <td>Female</td>\n",
       "      <td>65.746589</td>\n",
       "      <td>7</td>\n",
       "      <td>3</td>\n",
       "      <td>2</td>\n",
       "      <td>Single</td>\n",
       "      <td>8847.224006</td>\n",
       "      <td>No</td>\n",
       "      <td>39</td>\n",
       "      <td>4</td>\n",
       "      <td>7</td>\n",
       "      <td>12</td>\n",
       "      <td>7</td>\n",
       "      <td>9</td>\n",
       "      <td>1</td>\n",
       "    </tr>\n",
       "  </tbody>\n",
       "</table>\n",
       "</div>"
      ],
      "text/plain": [
       "   Age     BusinessTravel              Department  DistanceFromHome  \\\n",
       "0   22      Travel_Rarely                   Sales                 0   \n",
       "1   46      Travel_Rarely                   Sales                 0   \n",
       "2   47  Travel_Frequently                   Sales                 0   \n",
       "3   30      Travel_Rarely                   Sales                 0   \n",
       "4   36      Travel_Rarely  Research & Development                 0   \n",
       "\n",
       "       Education  Gender  HourlyRate  JobInvolvement  JobLevel  \\\n",
       "0            Phd    Male   74.888210               6         2   \n",
       "1        Masters    Male   64.959355               1         1   \n",
       "2  Undergraduate  Female  106.073465               2         4   \n",
       "3  Undergraduate    Male   66.315953               1         1   \n",
       "4    High School  Female   65.746589               7         3   \n",
       "\n",
       "   JobSatisfaction MaritalStatus  MonthlyIncome OverTime  TotalWorkingYears  \\\n",
       "0                2        Single    6816.572549       No                  8   \n",
       "1                6       Married    5818.402001       No                 38   \n",
       "2                3       Married    4740.545573       No                 36   \n",
       "3                2        Single     908.509393       No                  5   \n",
       "4                2        Single    8847.224006       No                 39   \n",
       "\n",
       "   WorkLifeBalance  YearsAtCompany  YearsInCurrentRole  \\\n",
       "0                3               7                  13   \n",
       "1                5               1                   3   \n",
       "2                1              10                   6   \n",
       "3                3              13                   0   \n",
       "4                4               7                  12   \n",
       "\n",
       "   YearsSinceLastPromotion  YearsWithCurrManager  Attrition  \n",
       "0                        2                     3          0  \n",
       "1                        3                    13          0  \n",
       "2                        6                    11          1  \n",
       "3                       12                     8          1  \n",
       "4                        7                     9          1  "
      ]
     },
     "execution_count": 132,
     "metadata": {},
     "output_type": "execute_result"
    }
   ],
   "source": [
    "df_2.head(5)"
   ]
  },
  {
   "attachments": {},
   "cell_type": "markdown",
   "metadata": {},
   "source": [
    "We begin by testing the `Data Drift` function:"
   ]
  },
  {
   "cell_type": "code",
   "execution_count": 128,
   "metadata": {},
   "outputs": [],
   "source": [
    "def detect_data_drift(reference_data, new_data, threshold=0.05):\n",
    "    \n",
    "    drift_features = []\n",
    "    feature_types = defaultdict(str)  # keep track of feature types (categorical or numeric)\n",
    "\n",
    "    # check feature types and calculate distance for each feature\n",
    "    for feature in reference_data.columns:\n",
    "        old_batch = reference_data[feature]\n",
    "        new_batch = new_data[feature]\n",
    "\n",
    "        # check if feature is categorical or numeric\n",
    "        if np.issubdtype(old_batch.dtype, np.number):\n",
    "            feature_types[feature] = 'numeric'\n",
    "            ks_statistic, p_val = ks_2samp(old_batch, new_batch, method='asymp')\n",
    "            if p_val < threshold:\n",
    "                drift_features.append(feature)\n",
    "        else:\n",
    "            feature_types[feature] = 'categorical'\n",
    "            old_distribution = pd.crosstab(old_batch, new_batch)\n",
    "            chi2_stat, p_val, dof, expected = chi2_contingency(old_distribution)\n",
    "            if p_val < threshold:\n",
    "                drift_features.append(feature)\n",
    "            \n",
    "    return drift_features"
   ]
  },
  {
   "cell_type": "code",
   "execution_count": 133,
   "metadata": {},
   "outputs": [
    {
     "data": {
      "text/plain": [
       "['HourlyRate']"
      ]
     },
     "execution_count": 133,
     "metadata": {},
     "output_type": "execute_result"
    }
   ],
   "source": [
    "detect_data_drift(df_1, df_2)"
   ]
  },
  {
   "cell_type": "code",
   "execution_count": 10,
   "metadata": {},
   "outputs": [
    {
     "data": {
      "image/png": "[encoded data removed]",
      "text/plain": [
       "<Figure size 640x480 with 1 Axes>"
      ]
     },
     "metadata": {},
     "output_type": "display_data"
    }
   ],
   "source": [
    "plt.hist(df_1['HourlyRate'], alpha=0.5, label='x1')\n",
    "plt.hist(df_2['HourlyRate'], alpha=0.5, label='x2')\n",
    "plt.legend(loc='upper right')\n",
    "plt.show()"
   ]
  },
  {
   "attachments": {},
   "cell_type": "markdown",
   "metadata": {},
   "source": [
    "According to the KS test, there might be potential data drift in `HourlyRate`."
   ]
  },
  {
   "attachments": {},
   "cell_type": "markdown",
   "metadata": {},
   "source": [
    "Using PSI test:"
   ]
  },
  {
   "cell_type": "code",
   "execution_count": 48,
   "metadata": {},
   "outputs": [
    {
     "data": {
      "text/plain": [
       "['DistanceFromHome']"
      ]
     },
     "execution_count": 48,
     "metadata": {},
     "output_type": "execute_result"
    }
   ],
   "source": [
    "import numpy as np\n",
    "import pandas as pd\n",
    "from scipy.stats import chi2\n",
    "\n",
    "def psi_numeric(observed, expected):\n",
    "    buckets = 10\n",
    "\n",
    "    # Calculate the bucket boundaries\n",
    "    boundaries = np.quantile(observed.index.values, np.linspace(0, 1, buckets + 1))\n",
    "    boundaries[0] = -np.inf\n",
    "    boundaries[-1] = np.inf\n",
    "\n",
    "    # Group the observed and expected data based on the bucket boundaries\n",
    "    observed_groups = observed.groupby(pd.cut(observed.index.values, boundaries)).count()\n",
    "    expected_groups = expected.groupby(pd.cut(expected.index.values, boundaries)).count()\n",
    "\n",
    "    # Calculate the observed and expected proportions for each group\n",
    "    observed_proportions = observed_groups / observed.sum()\n",
    "    expected_proportions = expected_groups / expected.sum()\n",
    "\n",
    "    # Add missing buckets to expected proportions\n",
    "    missing_buckets = observed_proportions.index.difference(expected_proportions.index)\n",
    "    for bucket in missing_buckets:\n",
    "        expected_proportions[bucket] = 0\n",
    "\n",
    "    # Sort the data by the bucket boundaries\n",
    "    observed_proportions.sort_index(inplace=True)\n",
    "    expected_proportions.sort_index(inplace=True)\n",
    "\n",
    "    # Calculate the PSI value\n",
    "    psi_value = np.sum((observed_proportions - expected_proportions) * np.log(observed_proportions / expected_proportions)) * 100\n",
    "\n",
    "    return psi_value\n",
    "\n",
    "def psi_cat(ref_feature, new_feature):\n",
    "    # Calculate distribution of actual and expected values\n",
    "    actual_counts = ref_feature.value_counts(normalize=True, sort=False)\n",
    "    expected_counts = new_feature.value_counts(normalize=True, sort=False)\n",
    "\n",
    "    # Calculate the proportion of each distribution\n",
    "    actual_prop = actual_counts / actual_counts.sum()\n",
    "    expected_prop = expected_counts / expected_counts.sum()\n",
    "\n",
    "    # Calculate the PSI value\n",
    "    psi_value = ((expected_prop - actual_prop) * np.log(expected_prop / actual_prop)).sum()\n",
    "\n",
    "    return psi_value\n",
    "\n",
    "\n",
    "def calculate_psi(old_batch, current_batch, threshold=0.25):\n",
    "    drift_features = []\n",
    "    for feature in old_batch.columns:\n",
    "        old_batch = current_batch[feature]\n",
    "        new_batch = current_batch[feature]\n",
    "        if np.issubdtype(old_batch.dtype, np.number):\n",
    "            stat = psi_numeric(df_1[feature], df_2[feature])\n",
    "\n",
    "            if stat > threshold:\n",
    "                drift_features.append(feature)\n",
    "        else:\n",
    "            stat = psi_cat(df_1[feature], df_2[feature])\n",
    "\n",
    "            if stat > threshold:\n",
    "                drift_features.append(feature)\n",
    "\n",
    "    return drift_features\n",
    "\n",
    "calculate_psi(df_1, df_2)"
   ]
  },
  {
   "cell_type": "code",
   "execution_count": null,
   "metadata": {},
   "outputs": [],
   "source": [
    "import pandas as pd\n",
    "import numpy as np\n",
    "\n",
    "def calculate_psi_categorical(actual: pd.Series, expected: pd.Series, bins: int = 10) -> float:\n",
    "    # Calculate distribution of actual and expected values\n",
    "    actual_counts = actual.value_counts(normalize=True, sort=False, bins=bins)\n",
    "    expected_counts = expected.value_counts(normalize=True, sort=False, bins=bins)\n",
    "\n",
    "    # Calculate the proportion of each distribution\n",
    "    actual_prop = actual_counts / actual_counts.sum()\n",
    "    expected_prop = expected_counts / expected_counts.sum()\n",
    "\n",
    "    # Calculate the PSI value\n",
    "    psi_value = ((expected_prop - actual_prop) * np.log(expected_prop / actual_prop)).sum()\n",
    "\n",
    "    return psi_value\n"
   ]
  },
  {
   "attachments": {},
   "cell_type": "markdown",
   "metadata": {},
   "source": [
    "Population Stability Index (PSI) is a statistical method used to measure the change in the distribution of a given variable between two populations or time periods. It is commonly used in credit risk management and fraud detection to evaluate whether the risk or fraud patterns of a population have changed over time.\n",
    "\n",
    "The PSI test calculates the difference in the distribution of a variable between two populations, where each population is typically divided into several bins or intervals. The difference is measured as the PSI value, which can range from 0 to infinity. A PSI value of 0 indicates no change in the distribution, while higher values indicate greater change."
   ]
  },
  {
   "attachments": {},
   "cell_type": "markdown",
   "metadata": {},
   "source": [
    "## Comparing the predictions made on old batch VS current batch:"
   ]
  },
  {
   "cell_type": "code",
   "execution_count": 53,
   "metadata": {},
   "outputs": [],
   "source": [
    "def compare_preds(old_batch, current_batch, alpha = 0.05):\n",
    "    # create two sets of predictions\n",
    "    predictions_1 = old_batch['Attrition']\n",
    "    predictions_2 = current_batch['Attrition']\n",
    "\n",
    "    # create a contingency table\n",
    "    contingency_table = pd.crosstab(predictions_1, predictions_2)\n",
    "\n",
    "    # perform the chi-squared test\n",
    "    chi2, p_val, dof, expected = stats.chi2_contingency(contingency_table)\n",
    "\n",
    "    if p_val < alpha:\n",
    "        return \"Significant difference between the two sets of predictions\"\n",
    "    else:\n",
    "        return \"No significant difference between the two sets of prediction\""
   ]
  },
  {
   "cell_type": "code",
   "execution_count": 54,
   "metadata": {},
   "outputs": [
    {
     "data": {
      "text/plain": [
       "'No significant difference between the two sets of prediction'"
      ]
     },
     "execution_count": 54,
     "metadata": {},
     "output_type": "execute_result"
    }
   ],
   "source": [
    "compare_preds(df_1, df_2)"
   ]
  },
  {
   "attachments": {},
   "cell_type": "markdown",
   "metadata": {},
   "source": [
    "## Calculating all model KPIs"
   ]
  },
  {
   "cell_type": "code",
   "execution_count": 56,
   "metadata": {},
   "outputs": [],
   "source": [
    "from sklearn.metrics import accuracy_score, precision_score, recall_score, f1_score, roc_auc_score, confusion_matrix, roc_curve\n",
    "\n",
    "def calculate_model_KPI(y_true, y_pred):\n",
    "    # assuming y_true and y_pred are the true and predicted labels, respectively\n",
    "    accuracy = accuracy_score(y_true, y_pred)\n",
    "    precision = precision_score(y_true, y_pred)\n",
    "    recall = recall_score(y_true, y_pred)\n",
    "    f1 = f1_score(y_true, y_pred)\n",
    "    auc_roc = roc_auc_score(y_true, y_pred)\n",
    "    cm = confusion_matrix(y_true, y_pred)\n",
    "    return accuracy, precision, recall, f1, auc_roc, cm\n",
    "\n",
    "def plot_roc():\n",
    "    fpr, tpr, thresholds = roc_curve(y_true, y_pred)\n",
    "    # plot the ROC curve\n",
    "    plt.plot(fpr, tpr)\n",
    "    plt.xlabel('False Positive Rate')\n",
    "    plt.ylabel('True Positive Rate')\n",
    "    plt.title('ROC Curve')\n",
    "    plt.show()\n",
    "\n"
   ]
  },
  {
   "attachments": {},
   "cell_type": "markdown",
   "metadata": {},
   "source": [
    "Bootstrapping for confidence level:"
   ]
  },
  {
   "cell_type": "code",
   "execution_count": 57,
   "metadata": {},
   "outputs": [],
   "source": [
    "def bootstrap_f1_score(y_true, y_pred, n_bootstraps=1000, random_seed=42):\n",
    "    np.random.seed(random_seed)\n",
    "    f1_scores = []\n",
    "    for i in range(n_bootstraps):\n",
    "        indices = np.random.choice(len(y_true), len(y_true), replace=True)\n",
    "        bootstrapped_y_true = y_true[indices]\n",
    "        bootstrapped_y_pred = y_pred[indices]\n",
    "        f1 = f1_score(bootstrapped_y_true, bootstrapped_y_pred)\n",
    "        f1_scores.append(f1)\n",
    "    f1_scores = np.array(f1_scores)\n",
    "    mean_f1 = np.mean(f1_scores)\n",
    "    std_f1 = np.std(f1_scores)\n",
    "    conf_int_lower = mean_f1 - 1.96 * std_f1\n",
    "    conf_int_upper = mean_f1 + 1.96 * std_f1\n",
    "    return mean_f1, std_f1, conf_int_lower, conf_int_upper"
   ]
  },
  {
   "attachments": {},
   "cell_type": "markdown",
   "metadata": {},
   "source": [
    "Distance Based"
   ]
  },
  {
   "attachments": {},
   "cell_type": "markdown",
   "metadata": {},
   "source": [
    "Compute the descriptive statistics (mean, variance, standard deviation, etc.) of the numeric features for both datasets.\n",
    "\n",
    "Compute the distance between the descriptive statistics of the numeric features of both datasets using a suitable distance metric (e.g., Euclidean distance, Mahalanobis distance, etc.).\n",
    "\n",
    "Compute the contingency tables for each categorical feature in both datasets.\n",
    "\n",
    "Compute the distance between the contingency tables of the categorical features of both datasets using a suitable distance metric (e.g., Chi-square distance, Jaccard distance, etc.).\n",
    "\n",
    "Aggregate the distances obtained from numeric and categorical features using a suitable aggregation function (e.g., weighted sum, mean, max, etc.) to obtain an overall distance metric."
   ]
  },
  {
   "cell_type": "code",
   "execution_count": 100,
   "metadata": {},
   "outputs": [],
   "source": [
    "numerical_cols = []\n",
    "categorical_cols = []\n",
    "for feature in df_1.columns:\n",
    "    if np.issubdtype(df_1[feature].dtype, np.number):\n",
    "        numerical_cols.append(feature)\n",
    "    else:\n",
    "        categorical_cols.append(feature)\n",
    "\n",
    "numerical_cols.pop(-1)"
   ]
  },
  {
   "cell_type": "code",
   "execution_count": 104,
   "metadata": {},
   "outputs": [],
   "source": [
    "import numpy as np\n",
    "import pandas as pd\n",
    "from scipy.spatial.distance import cdist\n",
    "from collections import Counter\n",
    "\n",
    "def compute_numerical_distance(ref_data, prod_data):\n",
    "    \"\"\"\n",
    "    Compute the Euclidean distance between the summary statistics of two numerical columns\n",
    "    \"\"\"\n",
    "    ref_stats = np.array([ref_data.mean(), ref_data.std(), ref_data.var()])\n",
    "    prod_stats = np.array([prod_data.mean(), prod_data.std(), prod_data.var()])\n",
    "    return cdist(ref_stats.reshape(1, -1), prod_stats.reshape(1, -1), metric='euclidean')[0, 0]\n",
    "\n",
    "def compute_categorical_distance(ref_data, prod_data):\n",
    "    \"\"\"\n",
    "    Compute the Jensen-Shannon distance between the empirical distributions of two categorical columns\n",
    "    \"\"\"\n",
    "    ref_counts = dict(Counter(ref_data))\n",
    "    prod_counts = dict(Counter(prod_data))\n",
    "    all_values = list(set(ref_counts.keys()) | set(prod_counts.keys()))\n",
    "    ref_probs = np.array([ref_counts.get(val, 0) / len(ref_data) for val in all_values])\n",
    "    prod_probs = np.array([prod_counts.get(val, 0) / len(prod_data) for val in all_values])\n",
    "    avg_probs = 0.5 * (ref_probs + prod_probs)\n",
    "    js_divergence = 0.5 * (np.sum(ref_probs * np.log(ref_probs / avg_probs)) + np.sum(prod_probs * np.log(prod_probs / avg_probs)))\n",
    "    #print(js_divergence)\n",
    "    return np.sqrt(js_divergence)\n",
    "\n",
    "def compute_overall_distance(ref_df, prod_df, numerical_cols, categorical_cols, numerical_weights=None):\n",
    "    \"\"\"\n",
    "    Compute the overall distance metric between the reference and production dataframes\n",
    "    \"\"\"\n",
    "    if numerical_weights is None:\n",
    "        numerical_weights = [1] * len(numerical_cols)\n",
    "    num_distance = 0\n",
    "    cat_distance = 0\n",
    "    for i, col in enumerate(numerical_cols):\n",
    "        num_distance += numerical_weights[i] * compute_numerical_distance(ref_df[col], prod_df[col])\n",
    "        print(num_distance)\n",
    "    for col in categorical_cols:\n",
    "        cat_distance += compute_categorical_distance(ref_df[col], prod_df[col])\n",
    "\n",
    "       # print(cat_distance)\n",
    "    return num_distance + cat_distance\n",
    "\n",
    "def test_for_drift(ref_data, prod_data, numerical_cols, categorical_cols, numerical_weights=None, threshold=0.1):\n",
    "    \"\"\"\n",
    "    Test for covariate drift between the reference and production dataframes\n",
    "    \"\"\"\n",
    "    distance = compute_overall_distance(ref_data, prod_data, numerical_cols, categorical_cols, numerical_weights)\n",
    "    return distance >= threshold\n"
   ]
  },
  {
   "cell_type": "code",
   "execution_count": 145,
   "metadata": {},
   "outputs": [],
   "source": [
    "# Loading the data\n",
    "dataset_1 = \"Batch_1.csv\"\n",
    "dataset_2 = \"Batch_2.csv\"\n",
    "\n",
    "df_1 = pd.read_csv(dataset_1)\n",
    "df_2 = pd.read_csv(dataset_2)"
   ]
  },
  {
   "cell_type": "code",
   "execution_count": 142,
   "metadata": {},
   "outputs": [],
   "source": [
    "from sklearn.preprocessing import StandardScaler\n",
    "\n",
    "# Create a StandardScaler object\n",
    "scaler = StandardScaler()\n",
    "\n",
    "# Fit and transform the numeric columns in the dataframe\n",
    "df_1[numerical_cols] = scaler.fit_transform(df_1[numerical_cols])\n",
    "df_2[numerical_cols] = scaler.transform(df_2[numerical_cols])"
   ]
  },
  {
   "cell_type": "code",
   "execution_count": 143,
   "metadata": {},
   "outputs": [
    {
     "data": {
      "text/plain": [
       "True"
      ]
     },
     "execution_count": 143,
     "metadata": {},
     "output_type": "execute_result"
    }
   ],
   "source": [
    "test_for_drift(df_1, df_2, numerical_cols, categorical_cols)"
   ]
  },
  {
   "cell_type": "code",
   "execution_count": 135,
   "metadata": {},
   "outputs": [],
   "source": [
    "def detect_data_drift(reference_data, new_data, threshold=0.05):\n",
    "    \n",
    "    drift_features = []\n",
    "    drift_features_cat = []\n",
    "    \n",
    "    # check feature types and calculate distance for each feature\n",
    "    for feature in reference_data.columns:\n",
    "        old_batch = reference_data[feature]\n",
    "        new_batch = new_data[feature]\n",
    "\n",
    "        # check if feature is categorical or numeric\n",
    "        if np.issubdtype(old_batch.dtype, np.number):\n",
    "            ks_statistic, p_val = ks_2samp(old_batch, new_batch)\n",
    "            if p_val < threshold:\n",
    "                #drift_dict['ks_2samp'] = p_val\n",
    "                drift_features.append(feature)\n",
    "                #feature_names.append(feature)\n",
    "        else:\n",
    "            #feature_types[feature] = 'categorical'\n",
    "            old_distribution = pd.crosstab(old_batch, new_batch)\n",
    "            chi2_stat, p_val, dof, expected = chi2_contingency(old_distribution)\n",
    "            if p_val < threshold:\n",
    "                drift_features_cat.append(feature)\n",
    "                #feature_names_cat.append(feature)\n",
    "    return drift_features_cat, drift_features\n",
    "\n",
    "\n",
    "def psi_numeric(observed, expected):\n",
    "    buckets = 10\n",
    "\n",
    "\n",
    "    # Calculate the bucket boundaries\n",
    "    boundaries = np.quantile(observed.index.values, np.linspace(0, 1, buckets + 1))\n",
    "    boundaries[0] = -np.inf\n",
    "    boundaries[-1] = np.inf\n",
    "\n",
    "    # Group the observed and expected data based on the bucket boundaries\n",
    "    observed_groups = observed.groupby(pd.cut(observed.index.values, boundaries)).count()\n",
    "    expected_groups = expected.groupby(pd.cut(expected.index.values, boundaries)).count()\n",
    "\n",
    "    # Calculate the observed and expected proportions for each group\n",
    "    observed_proportions = observed_groups / observed.sum()\n",
    "    expected_proportions = expected_groups / expected.sum()\n",
    "\n",
    "    # Add missing buckets to expected proportions\n",
    "    missing_buckets = observed_proportions.index.difference(expected_proportions.index)\n",
    "    for bucket in missing_buckets:\n",
    "        expected_proportions[bucket] = 0\n",
    "\n",
    "    # Sort the data by the bucket boundaries\n",
    "    observed_proportions.sort_index(inplace=True)\n",
    "    expected_proportions.sort_index(inplace=True)\n",
    "\n",
    "    # Calculate the PSI value\n",
    "    psi_value = np.sum((observed_proportions - expected_proportions) * np.log(observed_proportions / expected_proportions)) * 100\n",
    "\n",
    "    return psi_value\n",
    "\n",
    "def psi_cat(ref_feature, new_feature):\n",
    "    # Calculate distribution of actual and expected values\n",
    "    actual_counts = ref_feature.value_counts(normalize=True, sort=False)\n",
    "    expected_counts = new_feature.value_counts(normalize=True, sort=False)\n",
    "\n",
    "    # Calculate the proportion of each distribution\n",
    "    actual_prop = actual_counts / actual_counts.sum()\n",
    "    expected_prop = expected_counts / expected_counts.sum()\n",
    "\n",
    "    # Calculate the PSI value\n",
    "    psi_value = ((expected_prop - actual_prop) * np.log(expected_prop / actual_prop)).sum()\n",
    "\n",
    "    return psi_value\n",
    "\n",
    "\n",
    "def calculate_psi(old_batch, current_batch, threshold=0.25):\n",
    "    drift_features = []\n",
    "\n",
    "    for feature in old_batch.columns:\n",
    "        df_1 = old_batch[feature]\n",
    "        df_2 = current_batch[feature]\n",
    "        if np.issubdtype(df_1.dtype, np.number):\n",
    "            stat = psi_numeric(df_1, df_2)\n",
    "\n",
    "            if stat > threshold:\n",
    "                drift_features.append(feature)\n",
    "        else:\n",
    "            stat = psi_cat(df_1, df_2)\n",
    "\n",
    "            if stat > threshold:\n",
    "                drift_features.append(feature)\n",
    "    return drift_features\n",
    "\n",
    "\n",
    "\n",
    "\n",
    "import numpy as np\n",
    "import pandas as pd\n",
    "from scipy.spatial.distance import cdist\n",
    "from collections import Counter\n",
    "\n",
    "def compute_numerical_distance(ref_data, prod_data):\n",
    "    \"\"\"\n",
    "    Compute the Euclidean distance between the summary statistics of two numerical columns\n",
    "    \"\"\"\n",
    "    ref_stats = np.array([ref_data.mean(), ref_data.std(), ref_data.var()])\n",
    "    prod_stats = np.array([prod_data.mean(), prod_data.std(), prod_data.var()])\n",
    "    return cdist(ref_stats.reshape(1, -1), prod_stats.reshape(1, -1), metric='euclidean')[0, 0]\n",
    "\n",
    "def compute_categorical_distance(ref_data, prod_data):\n",
    "    \"\"\"\n",
    "    Compute the Jensen-Shannon distance between the empirical distributions of two categorical columns\n",
    "    \"\"\"\n",
    "    ref_counts = dict(Counter(ref_data))\n",
    "    prod_counts = dict(Counter(prod_data))\n",
    "    all_values = list(set(ref_counts.keys()) | set(prod_counts.keys()))\n",
    "    ref_probs = np.array([ref_counts.get(val, 0) / len(ref_data) for val in all_values])\n",
    "    prod_probs = np.array([prod_counts.get(val, 0) / len(prod_data) for val in all_values])\n",
    "    avg_probs = 0.5 * (ref_probs + prod_probs)\n",
    "    js_divergence = 0.5 * (np.sum(ref_probs * np.log(ref_probs / avg_probs)) + np.sum(prod_probs * np.log(prod_probs / avg_probs)))\n",
    "    #print(js_divergence)\n",
    "    return np.sqrt(js_divergence)\n",
    "\n",
    "def compute_overall_distance(ref_df, prod_df, numerical_cols, categorical_cols, numerical_weights=None):\n",
    "    \"\"\"\n",
    "    Compute the overall distance metric between the reference and production dataframes\n",
    "    \"\"\"\n",
    "    if numerical_weights is None:\n",
    "        numerical_weights = [1] * len(numerical_cols)\n",
    "    num_distance = 0\n",
    "    cat_distance = 0\n",
    "    for i, col in enumerate(numerical_cols):\n",
    "        num_distance += numerical_weights[i] * compute_numerical_distance(ref_df[col], prod_df[col])\n",
    "        #print(num_distance)\n",
    "    for col in categorical_cols:\n",
    "        cat_distance += compute_categorical_distance(ref_df[col], prod_df[col])\n",
    "\n",
    "       # print(cat_distance)\n",
    "    return num_distance + cat_distance\n",
    "\n",
    "def test_for_drift(ref_data, prod_data, numerical_cols, categorical_cols, numerical_weights=None, threshold=0.1):\n",
    "    \"\"\"\n",
    "    Test for covariate drift between the reference and production dataframes\n",
    "    \"\"\"\n",
    "    distance = compute_overall_distance(ref_data, prod_data, numerical_cols, categorical_cols, numerical_weights)\n",
    "    return distance >= threshold\n",
    "\n"
   ]
  },
  {
   "cell_type": "code",
   "execution_count": 146,
   "metadata": {},
   "outputs": [],
   "source": [
    "def drift_detector(old_data, new_data):\n",
    "    drift_dict = defaultdict()\n",
    "\n",
    "    # KS_test and Chi_sq test for numeric and categorical features respectively\n",
    "    cat_features, num_features = detect_data_drift(old_data, new_data, threshold=0.05)\n",
    "    drift_dict['KS_test'] = num_features\n",
    "    drift_dict['Chi_Sq'] = cat_features\n",
    "\n",
    "    psi_features = calculate_psi(old_data, new_data)\n",
    "    drift_dict['PSI'] = psi_features\n",
    "\n",
    "    numerical_cols = []\n",
    "    categorical_cols = []\n",
    "    for feature in old_data.columns:\n",
    "        if np.issubdtype(df_1[feature].dtype, np.number):\n",
    "            numerical_cols.append(feature)\n",
    "        else:\n",
    "            categorical_cols.append(feature)\n",
    "    res = test_for_drift(old_data, new_data, numerical_cols, categorical_cols, threshold=0.1)\n",
    "\n",
    "    drift_dict['Distance_based'] = res\n",
    "\n",
    "    return drift_dict"
   ]
  },
  {
   "cell_type": "code",
   "execution_count": 147,
   "metadata": {},
   "outputs": [
    {
     "name": "stderr",
     "output_type": "stream",
     "text": [
      "C:\\Users\\alvee\\AppData\\Local\\Temp\\ipykernel_17772\\2970299182.py:13: RuntimeWarning: ks_2samp: Exact calculation unsuccessful. Switching to method=asymp.\n",
      "  ks_statistic, p_val = ks_2samp(old_batch, new_batch)\n",
      "C:\\Users\\alvee\\AppData\\Local\\Temp\\ipykernel_17772\\2970299182.py:13: RuntimeWarning: ks_2samp: Exact calculation unsuccessful. Switching to method=asymp.\n",
      "  ks_statistic, p_val = ks_2samp(old_batch, new_batch)\n"
     ]
    },
    {
     "data": {
      "text/plain": [
       "defaultdict(None,\n",
       "            {'KS_test': ['HourlyRate'],\n",
       "             'Chi_Sq': [],\n",
       "             'PSI': ['DistanceFromHome'],\n",
       "             'Distance_based': True})"
      ]
     },
     "execution_count": 147,
     "metadata": {},
     "output_type": "execute_result"
    }
   ],
   "source": [
    "drift_detector(df_1, df_2)"
   ]
  },
  {
   "cell_type": "code",
   "execution_count": 163,
   "metadata": {},
   "outputs": [],
   "source": [
    "df_1['Attrition'] = df_1['Attrition'].replace({1: 'Yes', 0: 'No'})\n",
    "\n",
    "df_2['Attrition'] = df_2['Attrition'].replace({1: 'Yes', 0: 'No'})"
   ]
  },
  {
   "cell_type": "code",
   "execution_count": 155,
   "metadata": {},
   "outputs": [
    {
     "data": {
      "text/plain": [
       "(array(['No', 'Yes'], dtype=object), array([1764, 3236], dtype=int64))"
      ]
     },
     "execution_count": 155,
     "metadata": {},
     "output_type": "execute_result"
    }
   ],
   "source": [
    "np.unique(df_1['Attrition'], return_counts=True)"
   ]
  },
  {
   "cell_type": "code",
   "execution_count": 164,
   "metadata": {},
   "outputs": [
    {
     "data": {
      "text/plain": [
       "(array(['No', 'Yes'], dtype=object), array(['No', 'Yes'], dtype=object))"
      ]
     },
     "execution_count": 164,
     "metadata": {},
     "output_type": "execute_result"
    }
   ],
   "source": [
    "df_key, val = np.unique(df_1['Attrition'], return_counts=True)\n",
    "\n",
    "df_key_2, val_2 = np.unique(df_2['Attrition'], return_counts=True)\n",
    "df_key, df_key_2"
   ]
  },
  {
   "cell_type": "code",
   "execution_count": 172,
   "metadata": {},
   "outputs": [
    {
     "data": {
      "image/png": "[encoded data removed]",
      "text/plain": [
       "<Figure size 640x480 with 1 Axes>"
      ]
     },
     "metadata": {},
     "output_type": "display_data"
    }
   ],
   "source": [
    "import seaborn as sns\n",
    "\n",
    "sns.barplot(x=df_key, y=val)\n",
    "plt.title('Attrition on Current Batch')\n",
    "\n",
    "plt.show()"
   ]
  },
  {
   "attachments": {},
   "cell_type": "markdown",
   "metadata": {},
   "source": [
    "# Data Functions"
   ]
  },
  {
   "cell_type": "code",
   "execution_count": 5,
   "metadata": {},
   "outputs": [],
   "source": [
    "import numpy as np\n",
    "import pandas as pd\n",
    "\n",
    "def generate_data(n_samples = 15000):\n",
    "    \"\"\"\n",
    "    generate data\n",
    "    \"\"\"   \n",
    "    # define means and standard deviations for continuous variables\n",
    "    age_mean = 35\n",
    "    age_std = 10\n",
    "    \n",
    "    monthly_income_mean = 3000\n",
    "    monthly_income_std = 2000\n",
    "   \n",
    "    # generate continuous variables\n",
    "    age = np.round(np.random.normal(age_mean, age_std, n_samples),0).astype(int)\n",
    "    monthly_income = np.random.normal(monthly_income_mean, monthly_income_std, n_samples)\n",
    "    \n",
    "    # define parameter values for discrete variables\n",
    "    distance_param = 0.4\n",
    "    job_inv_param = 2\n",
    "    job_sat_param = 3   \n",
    "    work_life_bal_param = 3\n",
    "    \n",
    "    # generate discrete variables\n",
    "    distance_from_home = np.random.negative_binomial(distance_param, 1-distance_param, n_samples)\n",
    "    job_involvement = np.random.poisson(job_inv_param, n_samples)\n",
    "    job_satisfaction = np.random.poisson(job_sat_param, n_samples)\n",
    "    work_life_balance = np.random.poisson(work_life_bal_param, n_samples)\n",
    "    \n",
    "    # define category names and probabilities for categorical variables\n",
    "    business_travel_cat = ['Travel_Rarely', 'Travel_Frequently', 'Non-Travel']\n",
    "    business_travel_prob = [0.7, 0.2, 0.1]\n",
    "    \n",
    "    department_cat = ['Sales', 'Research & Development', 'Human Resources']\n",
    "    department_prob = [0.4, 0.5, 0.1]\n",
    "    \n",
    "    education_field_cat = ['High School', 'Undergraduate', 'Masters', 'Phd']\n",
    "    education_field_prob = [0.2, 0.4, 0.2, 0.2]\n",
    "    \n",
    "    marital_status_cat = ['Married', 'Single', 'Divorced']\n",
    "    marital_status_prob = [0.4, 0.4, 0.2]\n",
    "    \n",
    "    gender_cat = ['Male', 'Female']\n",
    "    gender_prob = [0.6, 0.4]\n",
    "\n",
    "    # generate categorical variables\n",
    "    business_travel = np.random.choice(business_travel_cat, n_samples, p=business_travel_prob)\n",
    "    department = np.random.choice(department_cat, n_samples, p=department_prob)\n",
    "    education_level = np.random.choice(education_field_cat, n_samples, p=education_field_prob)\n",
    "    marital_status = np.random.choice(marital_status_cat, n_samples, p=marital_status_prob)\n",
    "    gender = np.random.choice(gender_cat, n_samples, p=gender_prob)\n",
    "\n",
    "\n",
    "    # combine all variables into a pandas dataframe\n",
    "    data = pd.DataFrame({'Age': age,\n",
    "                        'BusinessTravel': business_travel,\n",
    "                        'Department': department,\n",
    "                        'DistanceFromHome': distance_from_home,\n",
    "                        'Education': education_level,\n",
    "                        'Gender': gender,\n",
    "                        'JobInvolvement': job_involvement,\n",
    "                        'JobSatisfaction': job_satisfaction,\n",
    "                        'MaritalStatus': marital_status,\n",
    "                        'MonthlyIncome': monthly_income,\n",
    "                        'OverTime': np.random.choice(['Yes', 'No'], n_samples, p=[0.25, 0.75]),\n",
    "                        'TotalWorkingYears': np.random.randint(0, 40, n_samples),\n",
    "                        'WorkLifeBalance': work_life_balance,\n",
    "                        'YearsAtCompany': np.random.randint(0, 20, n_samples),\n",
    "                        'YearsInCurrentRole': np.random.randint(0, 15, n_samples),\n",
    "                        'YearsSinceLastPromotion': np.random.randint(0, 15, n_samples),\n",
    "                        'YearsWithCurrManager': np.random.randint(0, 15, n_samples)})\n",
    "\n",
    "    return data"
   ]
  },
  {
   "cell_type": "code",
   "execution_count": 6,
   "metadata": {},
   "outputs": [],
   "source": [
    "employee_data = generate_data()"
   ]
  },
  {
   "cell_type": "code",
   "execution_count": 8,
   "metadata": {},
   "outputs": [
    {
     "data": {
      "text/plain": [
       "count    15000.000000\n",
       "mean         0.262800\n",
       "std          0.661941\n",
       "min          0.000000\n",
       "25%          0.000000\n",
       "50%          0.000000\n",
       "75%          0.000000\n",
       "max          9.000000\n",
       "Name: DistanceFromHome, dtype: float64"
      ]
     },
     "execution_count": 8,
     "metadata": {},
     "output_type": "execute_result"
    }
   ],
   "source": [
    "employee_data['DistanceFromHome'].describe()"
   ]
  },
  {
   "cell_type": "code",
   "execution_count": null,
   "metadata": {},
   "outputs": [],
   "source": [
    "# define the function to create the classification label\n",
    "def create_label(row):\n",
    "    if row['Department'] == 'Sales' and row['JobSatisfaction'] <= 3 and row['YearsSinceLastPromotion'] > 5:\n",
    "        return 1\n",
    "    elif row['Department'] == 'Human Resources' and row['YearsAtCompany'] < 3 and row['MaritalStatus'] == 'Married' and row['OverTime'] == 'Yes':\n",
    "        return 1\n",
    "    elif (row['Department'] == 'Research & Development' and row['YearsAtCompany'] > 8) or (row['OverTime'] == 'No' and row['YearsSinceLastPromotion'] < 4):\n",
    "        return 0\n",
    "    elif row['Age'] < 35 and row['Gender'] == 'Male' and row['BusinessTravel'] == 'Travel_Frequently' and ((row['YearsWithCurrManager'] < 2) or row['Education']=='Undergraduate'):\n",
    "        return 1\n",
    "    elif (row['Age'] > ((row['YearsWithCurrManager'] + row['TotalWorkingYears']) * row['YearsAtCompany'])) or ((row['MonthlyIncome'] > 300) and (row['JobInvolvement'] > 3)):\n",
    "        return 1\n",
    "    elif row['Age'] < 35 and row['MonthlyIncome'] < 3500 and row['Education'] == 'High School':\n",
    "        return 1\n",
    "    else:\n",
    "        return 0\n",
    "               \n",
    "\n",
    "# apply the function to create the classification label for each row in the dataset\n",
    "employee_data['Attrition'] = employee_data.apply(create_label, axis=1)\n",
    "\n",
    "employee_data['OverTime'] = employee_data['OverTime'].apply(lambda x: 1 if x == 'Yes' else 0)"
   ]
  },
  {
   "cell_type": "code",
   "execution_count": null,
   "metadata": {},
   "outputs": [],
   "source": [
    "def drift_generate_data(n_samples=15000, gradual_change=True, feature_to_change=None):\n",
    "    generate_data()\n",
    "\n",
    "    # determine which feature to change and how to change it\n",
    "    if feature_to_change is None:\n",
    "        feature_to_change = np.random.choice(['Age', 'MonthlyIncome'])\n",
    "    if gradual_change:\n",
    "        data = gradual_change_data(data=data, feature=feature_to_change)\n",
    "    else:\n",
    "        data[feature_to_change] = sudden_change_data(data=data, feature=feature_to_change)\n"
   ]
  },
  {
   "cell_type": "code",
   "execution_count": 21,
   "metadata": {},
   "outputs": [],
   "source": [
    "# select numerical columns\n",
    "numerical_cols = data.select_dtypes(include=np.number).columns.tolist()\n",
    "\n",
    "# select categorical columns\n",
    "categorical_cols = data.select_dtypes(include=['object']).columns.tolist()"
   ]
  },
  {
   "cell_type": "code",
   "execution_count": 22,
   "metadata": {},
   "outputs": [
    {
     "data": {
      "text/plain": [
       "['BusinessTravel',\n",
       " 'Department',\n",
       " 'Education',\n",
       " 'Gender',\n",
       " 'MaritalStatus',\n",
       " 'OverTime']"
      ]
     },
     "execution_count": 22,
     "metadata": {},
     "output_type": "execute_result"
    }
   ],
   "source": [
    "def get_num_cat_columns(data):\n",
    "    numerical_cols = data.select_dtypes(include=np.number).columns.tolist()\n",
    "    categorical_cols = data.select_dtypes(include=['object']).columns.tolist()\n",
    "\n",
    "    return numerical_cols, categorical_cols"
   ]
  },
  {
   "cell_type": "code",
   "execution_count": 2,
   "metadata": {},
   "outputs": [
    {
     "ename": "NameError",
     "evalue": "name 'data' is not defined",
     "output_type": "error",
     "traceback": [
      "\u001b[1;31m---------------------------------------------------------------------------\u001b[0m",
      "\u001b[1;31mNameError\u001b[0m                                 Traceback (most recent call last)",
      "Cell \u001b[1;32mIn[2], line 4\u001b[0m\n\u001b[0;32m      1\u001b[0m \u001b[39mimport\u001b[39;00m \u001b[39mrandom\u001b[39;00m\n\u001b[0;32m      3\u001b[0m \u001b[39m# Get column names\u001b[39;00m\n\u001b[1;32m----> 4\u001b[0m col_names \u001b[39m=\u001b[39m data\u001b[39m.\u001b[39mcolumns\u001b[39m.\u001b[39mtolist()\n\u001b[0;32m      6\u001b[0m \u001b[39m# Randomly pick 3 column names\u001b[39;00m\n\u001b[0;32m      7\u001b[0m random_col_names \u001b[39m=\u001b[39m random\u001b[39m.\u001b[39msample(col_names, k\u001b[39m=\u001b[39m\u001b[39m3\u001b[39m)\n",
      "\u001b[1;31mNameError\u001b[0m: name 'data' is not defined"
     ]
    }
   ],
   "source": [
    "import random\n",
    "\n",
    "# Get column names\n",
    "col_names = data.columns.tolist()\n",
    "\n",
    "# Randomly pick 3 column names\n",
    "random_col_names = random.sample(col_names, k=3)"
   ]
  },
  {
   "cell_type": "code",
   "execution_count": 24,
   "metadata": {},
   "outputs": [
    {
     "data": {
      "text/plain": [
       "['Age', 'OverTime', 'DistanceFromHome']"
      ]
     },
     "execution_count": 24,
     "metadata": {},
     "output_type": "execute_result"
    }
   ],
   "source": [
    "random_col_names"
   ]
  },
  {
   "cell_type": "code",
   "execution_count": 26,
   "metadata": {},
   "outputs": [
    {
     "name": "stdout",
     "output_type": "stream",
     "text": [
      "False\n",
      "True\n",
      "False\n"
     ]
    }
   ],
   "source": [
    "for i in random_col_names:\n",
    "    if i in categorical_cols:\n",
    "        print(True)\n",
    "    else:\n",
    "        print(False)"
   ]
  },
  {
   "cell_type": "code",
   "execution_count": 15,
   "metadata": {},
   "outputs": [
    {
     "data": {
      "text/plain": [
       "'SUDDEN'"
      ]
     },
     "execution_count": 15,
     "metadata": {},
     "output_type": "execute_result"
    }
   ],
   "source": [
    "import random\n",
    "lst = ['SUDDEN', ['GRADUAL']]\n",
    "\n",
    "drift_typ = random.choice(['GRADUAL', 'SUDDEN'])\n",
    "\n",
    "drift_typ"
   ]
  }
 ],
 "metadata": {
  "kernelspec": {
   "display_name": "drift",
   "language": "python",
   "name": "python3"
  },
  "language_info": {
   "codemirror_mode": {
    "name": "ipython",
    "version": 3
   },
   "file_extension": ".py",
   "mimetype": "text/x-python",
   "name": "python",
   "nbconvert_exporter": "python",
   "pygments_lexer": "ipython3",
   "version": "3.11.2"
  },
  "orig_nbformat": 4
 },
 "nbformat": 4,
 "nbformat_minor": 2
}
